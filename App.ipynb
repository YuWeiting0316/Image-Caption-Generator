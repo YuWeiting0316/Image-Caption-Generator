{
  "cells": [
    {
      "cell_type": "code",
      "execution_count": null,
      "metadata": {
        "colab": {
          "base_uri": "https://localhost:8080/"
        },
        "id": "Z_PMFbi7-bUT",
        "outputId": "850e3d21-9a04-41d6-e6c3-16a4f854ee36"
      },
      "outputs": [
        {
          "output_type": "stream",
          "name": "stdout",
          "text": [
            "Looking in indexes: https://pypi.org/simple, https://us-python.pkg.dev/colab-wheels/public/simple/\n",
            "Collecting pyngrok==4.1.1\n",
            "  Downloading pyngrok-4.1.1.tar.gz (18 kB)\n",
            "  Preparing metadata (setup.py) ... \u001b[?25l\u001b[?25hdone\n",
            "Requirement already satisfied: future in /usr/local/lib/python3.9/dist-packages (from pyngrok==4.1.1) (0.18.3)\n",
            "Requirement already satisfied: PyYAML in /usr/local/lib/python3.9/dist-packages (from pyngrok==4.1.1) (6.0)\n",
            "Building wheels for collected packages: pyngrok\n",
            "  Building wheel for pyngrok (setup.py) ... \u001b[?25l\u001b[?25hdone\n",
            "  Created wheel for pyngrok: filename=pyngrok-4.1.1-py3-none-any.whl size=15979 sha256=5119f9b6cff8942d05b48e9265db926bf0e67aeb3f3bf6a24149ec18ca096d50\n",
            "  Stored in directory: /root/.cache/pip/wheels/89/2d/c2/abe6bcfde6bce368c00ecd73310c11edb672c3eda09a090cfa\n",
            "Successfully built pyngrok\n",
            "Installing collected packages: pyngrok\n",
            "Successfully installed pyngrok-4.1.1\n"
          ]
        }
      ],
      "source": [
        "!pip install pyngrok==4.1.1"
      ]
    },
    {
      "cell_type": "code",
      "execution_count": null,
      "metadata": {
        "colab": {
          "base_uri": "https://localhost:8080/"
        },
        "id": "YPve47st-uuL",
        "outputId": "155ddb1b-a0f7-4285-c785-fe6a0ca2a2a2"
      },
      "outputs": [
        {
          "output_type": "stream",
          "name": "stdout",
          "text": [
            "Looking in indexes: https://pypi.org/simple, https://us-python.pkg.dev/colab-wheels/public/simple/\n",
            "Collecting streamlit\n",
            "  Downloading streamlit-1.21.0-py2.py3-none-any.whl (9.7 MB)\n",
            "\u001b[2K     \u001b[90m━━━━━━━━━━━━━━━━━━━━━━━━━━━━━━━━━━━━━━━━\u001b[0m \u001b[32m9.7/9.7 MB\u001b[0m \u001b[31m35.0 MB/s\u001b[0m eta \u001b[36m0:00:00\u001b[0m\n",
            "\u001b[?25hCollecting pydeck>=0.1.dev5\n",
            "  Downloading pydeck-0.8.1b0-py2.py3-none-any.whl (4.8 MB)\n",
            "\u001b[2K     \u001b[90m━━━━━━━━━━━━━━━━━━━━━━━━━━━━━━━━━━━━━━━━\u001b[0m \u001b[32m4.8/4.8 MB\u001b[0m \u001b[31m63.9 MB/s\u001b[0m eta \u001b[36m0:00:00\u001b[0m\n",
            "\u001b[?25hRequirement already satisfied: requests>=2.4 in /usr/local/lib/python3.9/dist-packages (from streamlit) (2.27.1)\n",
            "Collecting watchdog\n",
            "  Downloading watchdog-3.0.0-py3-none-manylinux2014_x86_64.whl (82 kB)\n",
            "\u001b[2K     \u001b[90m━━━━━━━━━━━━━━━━━━━━━━━━━━━━━━━━━━━━━━━━\u001b[0m \u001b[32m82.1/82.1 kB\u001b[0m \u001b[31m5.5 MB/s\u001b[0m eta \u001b[36m0:00:00\u001b[0m\n",
            "\u001b[?25hRequirement already satisfied: cachetools>=4.0 in /usr/local/lib/python3.9/dist-packages (from streamlit) (5.3.0)\n",
            "Requirement already satisfied: python-dateutil in /usr/local/lib/python3.9/dist-packages (from streamlit) (2.8.2)\n",
            "Requirement already satisfied: pandas<2,>=0.25 in /usr/local/lib/python3.9/dist-packages (from streamlit) (1.5.3)\n",
            "Collecting gitpython!=3.1.19\n",
            "  Downloading GitPython-3.1.31-py3-none-any.whl (184 kB)\n",
            "\u001b[2K     \u001b[90m━━━━━━━━━━━━━━━━━━━━━━━━━━━━━━━━━━━━━━━\u001b[0m \u001b[32m184.3/184.3 kB\u001b[0m \u001b[31m3.4 MB/s\u001b[0m eta \u001b[36m0:00:00\u001b[0m\n",
            "\u001b[?25hRequirement already satisfied: toml in /usr/local/lib/python3.9/dist-packages (from streamlit) (0.10.2)\n",
            "Requirement already satisfied: importlib-metadata>=1.4 in /usr/local/lib/python3.9/dist-packages (from streamlit) (6.3.0)\n",
            "Requirement already satisfied: rich>=10.11.0 in /usr/local/lib/python3.9/dist-packages (from streamlit) (13.3.3)\n",
            "Collecting validators>=0.2\n",
            "  Downloading validators-0.20.0.tar.gz (30 kB)\n",
            "  Preparing metadata (setup.py) ... \u001b[?25l\u001b[?25hdone\n",
            "Requirement already satisfied: pyarrow>=4.0 in /usr/local/lib/python3.9/dist-packages (from streamlit) (9.0.0)\n",
            "Requirement already satisfied: numpy in /usr/local/lib/python3.9/dist-packages (from streamlit) (1.22.4)\n",
            "Requirement already satisfied: altair<5,>=3.2.0 in /usr/local/lib/python3.9/dist-packages (from streamlit) (4.2.2)\n",
            "Collecting pympler>=0.9\n",
            "  Downloading Pympler-1.0.1-py3-none-any.whl (164 kB)\n",
            "\u001b[2K     \u001b[90m━━━━━━━━━━━━━━━━━━━━━━━━━━━━━━━━━━━━━━━\u001b[0m \u001b[32m164.8/164.8 kB\u001b[0m \u001b[31m2.8 MB/s\u001b[0m eta \u001b[36m0:00:00\u001b[0m\n",
            "\u001b[?25hRequirement already satisfied: typing-extensions>=3.10.0.0 in /usr/local/lib/python3.9/dist-packages (from streamlit) (4.5.0)\n",
            "Requirement already satisfied: tzlocal>=1.1 in /usr/local/lib/python3.9/dist-packages (from streamlit) (4.3)\n",
            "Requirement already satisfied: tornado>=6.0.3 in /usr/local/lib/python3.9/dist-packages (from streamlit) (6.2)\n",
            "Requirement already satisfied: packaging>=14.1 in /usr/local/lib/python3.9/dist-packages (from streamlit) (23.0)\n",
            "Requirement already satisfied: click>=7.0 in /usr/local/lib/python3.9/dist-packages (from streamlit) (8.1.3)\n",
            "Collecting blinker>=1.0.0\n",
            "  Downloading blinker-1.6.2-py3-none-any.whl (13 kB)\n",
            "Requirement already satisfied: pillow>=6.2.0 in /usr/local/lib/python3.9/dist-packages (from streamlit) (8.4.0)\n",
            "Requirement already satisfied: protobuf<4,>=3.12 in /usr/local/lib/python3.9/dist-packages (from streamlit) (3.20.3)\n",
            "Requirement already satisfied: entrypoints in /usr/local/lib/python3.9/dist-packages (from altair<5,>=3.2.0->streamlit) (0.4)\n",
            "Requirement already satisfied: toolz in /usr/local/lib/python3.9/dist-packages (from altair<5,>=3.2.0->streamlit) (0.12.0)\n",
            "Requirement already satisfied: jsonschema>=3.0 in /usr/local/lib/python3.9/dist-packages (from altair<5,>=3.2.0->streamlit) (4.3.3)\n",
            "Requirement already satisfied: jinja2 in /usr/local/lib/python3.9/dist-packages (from altair<5,>=3.2.0->streamlit) (3.1.2)\n",
            "Collecting gitdb<5,>=4.0.1\n",
            "  Downloading gitdb-4.0.10-py3-none-any.whl (62 kB)\n",
            "\u001b[2K     \u001b[90m━━━━━━━━━━━━━━━━━━━━━━━━━━━━━━━━━━━━━━━━\u001b[0m \u001b[32m62.7/62.7 kB\u001b[0m \u001b[31m4.0 MB/s\u001b[0m eta \u001b[36m0:00:00\u001b[0m\n",
            "\u001b[?25hRequirement already satisfied: zipp>=0.5 in /usr/local/lib/python3.9/dist-packages (from importlib-metadata>=1.4->streamlit) (3.15.0)\n",
            "Requirement already satisfied: pytz>=2020.1 in /usr/local/lib/python3.9/dist-packages (from pandas<2,>=0.25->streamlit) (2022.7.1)\n",
            "Requirement already satisfied: six>=1.5 in /usr/local/lib/python3.9/dist-packages (from python-dateutil->streamlit) (1.16.0)\n",
            "Requirement already satisfied: idna<4,>=2.5 in /usr/local/lib/python3.9/dist-packages (from requests>=2.4->streamlit) (3.4)\n",
            "Requirement already satisfied: charset-normalizer~=2.0.0 in /usr/local/lib/python3.9/dist-packages (from requests>=2.4->streamlit) (2.0.12)\n",
            "Requirement already satisfied: urllib3<1.27,>=1.21.1 in /usr/local/lib/python3.9/dist-packages (from requests>=2.4->streamlit) (1.26.15)\n",
            "Requirement already satisfied: certifi>=2017.4.17 in /usr/local/lib/python3.9/dist-packages (from requests>=2.4->streamlit) (2022.12.7)\n",
            "Requirement already satisfied: markdown-it-py<3.0.0,>=2.2.0 in /usr/local/lib/python3.9/dist-packages (from rich>=10.11.0->streamlit) (2.2.0)\n",
            "Requirement already satisfied: pygments<3.0.0,>=2.13.0 in /usr/local/lib/python3.9/dist-packages (from rich>=10.11.0->streamlit) (2.14.0)\n",
            "Requirement already satisfied: pytz-deprecation-shim in /usr/local/lib/python3.9/dist-packages (from tzlocal>=1.1->streamlit) (0.1.0.post0)\n",
            "Requirement already satisfied: decorator>=3.4.0 in /usr/local/lib/python3.9/dist-packages (from validators>=0.2->streamlit) (4.4.2)\n",
            "Collecting smmap<6,>=3.0.1\n",
            "  Downloading smmap-5.0.0-py3-none-any.whl (24 kB)\n",
            "Requirement already satisfied: MarkupSafe>=2.0 in /usr/local/lib/python3.9/dist-packages (from jinja2->altair<5,>=3.2.0->streamlit) (2.1.2)\n",
            "Requirement already satisfied: pyrsistent!=0.17.0,!=0.17.1,!=0.17.2,>=0.14.0 in /usr/local/lib/python3.9/dist-packages (from jsonschema>=3.0->altair<5,>=3.2.0->streamlit) (0.19.3)\n",
            "Requirement already satisfied: attrs>=17.4.0 in /usr/local/lib/python3.9/dist-packages (from jsonschema>=3.0->altair<5,>=3.2.0->streamlit) (22.2.0)\n",
            "Requirement already satisfied: mdurl~=0.1 in /usr/local/lib/python3.9/dist-packages (from markdown-it-py<3.0.0,>=2.2.0->rich>=10.11.0->streamlit) (0.1.2)\n",
            "Requirement already satisfied: tzdata in /usr/local/lib/python3.9/dist-packages (from pytz-deprecation-shim->tzlocal>=1.1->streamlit) (2023.3)\n",
            "Building wheels for collected packages: validators\n",
            "  Building wheel for validators (setup.py) ... \u001b[?25l\u001b[?25hdone\n",
            "  Created wheel for validators: filename=validators-0.20.0-py3-none-any.whl size=19579 sha256=cb316cb76218045e0127b8e950f628d94a78f3d99d5975aff6cefb07aaa144ea\n",
            "  Stored in directory: /root/.cache/pip/wheels/2d/f0/a8/1094fca7a7e5d0d12ff56e0c64675d72aa5cc81a5fc200e849\n",
            "Successfully built validators\n",
            "Installing collected packages: watchdog, validators, smmap, pympler, blinker, pydeck, gitdb, gitpython, streamlit\n",
            "Successfully installed blinker-1.6.2 gitdb-4.0.10 gitpython-3.1.31 pydeck-0.8.1b0 pympler-1.0.1 smmap-5.0.0 streamlit-1.21.0 validators-0.20.0 watchdog-3.0.0\n"
          ]
        }
      ],
      "source": [
        "!pip install --upgrade streamlit\n",
        "import streamlit as st"
      ]
    },
    {
      "cell_type": "code",
      "execution_count": null,
      "metadata": {
        "colab": {
          "base_uri": "https://localhost:8080/"
        },
        "id": "Dwk720idugGk",
        "outputId": "1d433d17-4e60-47ea-d027-86e03a82bddf"
      },
      "outputs": [
        {
          "output_type": "stream",
          "name": "stdout",
          "text": [
            "Mounted at /content/gdrive\n"
          ]
        }
      ],
      "source": [
        "from google.colab import drive\n",
        "drive.mount('/content/gdrive',force_remount=True)"
      ]
    },
    {
      "cell_type": "code",
      "execution_count": null,
      "metadata": {
        "colab": {
          "base_uri": "https://localhost:8080/"
        },
        "id": "WrBBcWIVuniI",
        "outputId": "86aab932-2caa-490b-99ce-b4a0247b17ad"
      },
      "outputs": [
        {
          "output_type": "stream",
          "name": "stdout",
          "text": [
            "/content/gdrive/.shortcut-targets-by-id/1HuqlSiQQRulpqyyP747KMhMiCeBTkfqs/DS440/Data/image\n"
          ]
        }
      ],
      "source": [
        "cd /content/gdrive/My Drive/DS440/Data/image"
      ]
    },
    {
      "cell_type": "code",
      "execution_count": null,
      "metadata": {
        "colab": {
          "base_uri": "https://localhost:8080/"
        },
        "id": "Hy1C2A5QuxAc",
        "outputId": "79c70983-91d5-451b-dddb-025ac7369ac3"
      },
      "outputs": [
        {
          "name": "stdout",
          "output_type": "stream",
          "text": [
            "12345.jpg  best_model.h5  features.pkl\tmodel.png\n",
            "app.py\t   captions.txt   Images\ttokenizer.pkl\n"
          ]
        }
      ],
      "source": [
        "!ls"
      ]
    },
    {
      "cell_type": "code",
      "execution_count": null,
      "metadata": {
        "colab": {
          "base_uri": "https://localhost:8080/"
        },
        "id": "5o75CRhr4nkt",
        "outputId": "d362ee01-7f4c-4f26-91c3-0ae522557899"
      },
      "outputs": [
        {
          "output_type": "stream",
          "name": "stdout",
          "text": [
            "Looking in indexes: https://pypi.org/simple, https://us-python.pkg.dev/colab-wheels/public/simple/\n",
            "Collecting translate\n",
            "  Downloading translate-3.6.1-py2.py3-none-any.whl (12 kB)\n",
            "Requirement already satisfied: requests in /usr/local/lib/python3.9/dist-packages (from translate) (2.27.1)\n",
            "Collecting libretranslatepy==2.1.1\n",
            "  Downloading libretranslatepy-2.1.1-py3-none-any.whl (3.2 kB)\n",
            "Requirement already satisfied: click in /usr/local/lib/python3.9/dist-packages (from translate) (8.1.3)\n",
            "Requirement already satisfied: lxml in /usr/local/lib/python3.9/dist-packages (from translate) (4.9.2)\n",
            "Requirement already satisfied: idna<4,>=2.5 in /usr/local/lib/python3.9/dist-packages (from requests->translate) (3.4)\n",
            "Requirement already satisfied: charset-normalizer~=2.0.0 in /usr/local/lib/python3.9/dist-packages (from requests->translate) (2.0.12)\n",
            "Requirement already satisfied: certifi>=2017.4.17 in /usr/local/lib/python3.9/dist-packages (from requests->translate) (2022.12.7)\n",
            "Requirement already satisfied: urllib3<1.27,>=1.21.1 in /usr/local/lib/python3.9/dist-packages (from requests->translate) (1.26.15)\n",
            "Installing collected packages: libretranslatepy, translate\n",
            "Successfully installed libretranslatepy-2.1.1 translate-3.6.1\n"
          ]
        }
      ],
      "source": [
        "pip install translate"
      ]
    },
    {
      "cell_type": "code",
      "execution_count": null,
      "metadata": {
        "id": "kWwBIOMy3WAC"
      },
      "outputs": [],
      "source": [
        "from translate import Translator\n",
        "\n",
        "def translate_text(text, target_language = \"ja\"):\n",
        "  translator = Translator(to_lang=target_language)\n",
        "  translation = translator.translate(text)\n",
        "  return translation"
      ]
    },
    {
      "cell_type": "code",
      "execution_count": null,
      "metadata": {
        "id": "3uuFwhWo3aPt"
      },
      "outputs": [],
      "source": [
        "from translate import Translator\n",
        "\n",
        "def translate_text(text, target_language):\n",
        "    translator = Translator(to_lang=target_language)\n",
        "    translation = translator.translate(text)\n",
        "    return translation"
      ]
    },
    {
      "cell_type": "code",
      "execution_count": null,
      "metadata": {
        "colab": {
          "base_uri": "https://localhost:8080/"
        },
        "id": "-CJJxlD95-PI",
        "outputId": "b3c846db-f0e0-4ea8-aad0-031fcf0c3ef2"
      },
      "outputs": [
        {
          "output_type": "stream",
          "name": "stdout",
          "text": [
            "お元気ですか\n"
          ]
        }
      ],
      "source": [
        "print(translate_text(\"how are you\", \"ja\"))"
      ]
    },
    {
      "cell_type": "code",
      "execution_count": null,
      "metadata": {
        "colab": {
          "base_uri": "https://localhost:8080/"
        },
        "id": "ADZgnV05-1KL",
        "outputId": "74a8c7ad-d054-48d4-8415-9c1b169b8121"
      },
      "outputs": [
        {
          "output_type": "stream",
          "name": "stdout",
          "text": [
            "Overwriting app.py\n"
          ]
        }
      ],
      "source": [
        "%%writefile app.py\n",
        "import os   # handling the files\n",
        "import pickle # storing numpy features\n",
        "import numpy as np\n",
        "from tqdm.notebook import tqdm # how much data is process till now\n",
        "from keras.models import load_model\n",
        "import cv2\n",
        "\n",
        "from tensorflow.keras.applications.vgg16 import VGG16 , preprocess_input # extract features from image data.\n",
        "from tensorflow.keras.preprocessing.image import load_img , img_to_array\n",
        "from tensorflow.keras.preprocessing.text import Tokenizer\n",
        "from tensorflow.keras.preprocessing.sequence import pad_sequences\n",
        "from tensorflow.keras.models import Model\n",
        "from tensorflow.keras.utils import to_categorical, plot_model\n",
        "from tensorflow.keras.layers import Input , Dense , LSTM , Embedding , Dropout , add\n",
        "\n",
        "import streamlit as st\n",
        "import pickle\n",
        "import numpy as np\n",
        "import pandas as pd\n",
        "import string\n",
        "from translate import Translator\n",
        "\n",
        "Navigation = {\"page_title\":\"ImageCaptionGenerator.io\",\"page_icon\":\"👽\",\"layout\":\"centered\"}\n",
        "st.set_page_config(**Navigation)\n",
        "\n",
        "\n",
        "def translate_text(text, target_language):\n",
        "    translator = Translator(to_lang=target_language)\n",
        "    translation = translator.translate(text)\n",
        "    return translation\n",
        "\n",
        "\n",
        "def idx_to_word(integer, tokenizer):\n",
        "    for word, index in tokenizer.word_index.items():\n",
        "        if index == integer:\n",
        "            return word\n",
        "    return None\n",
        "\n",
        "# generate caption for an image\n",
        "def predict_caption(model, image, tokenizer, max_length):\n",
        "    # add start tag for generation process\n",
        "    in_text = 'startseq'\n",
        "    # iterate over the max length of sequence\n",
        "    for i in range(max_length):\n",
        "        # encode input sequence\n",
        "        sequence = tokenizer.texts_to_sequences([in_text])[0]\n",
        "        # pad the sequence\n",
        "        sequence = pad_sequences([sequence], max_length)\n",
        "        # predict next word\n",
        "        yhat = model.predict([image, sequence], verbose=0)\n",
        "        # get index with high probability\n",
        "        yhat = np.argmax(yhat)\n",
        "        # convert index to word\n",
        "        word = idx_to_word(yhat, tokenizer)\n",
        "        # stop if word not found\n",
        "        if word is None:\n",
        "            break\n",
        "        # append word as input for generating next word\n",
        "        in_text += \" \" + word\n",
        "        # stop if we reach end tag\n",
        "        if word == 'endseq':\n",
        "            break\n",
        "    return in_text\n",
        "\n",
        "from PIL import Image\n",
        "import matplotlib.pyplot as plt\n",
        "# def generate_caption(image_name):\n",
        "#     # load the image\n",
        "#     # image_name = \"1001773457_577c3a7d70.jpg\"\n",
        "#     image_id = \"1\"\n",
        "\n",
        "#     # predict the caption\n",
        "#     y_pred = predict_caption(model, features[image_id], tokenizer, max_length)\n",
        "#     # print('--------------------Predicted--------------------')\n",
        "#     # print(y_pred)\n",
        "#     # plt.imshow(image)\n",
        "\n",
        "\n",
        "\n",
        "def load_tokenizer():\n",
        "    with open('tokenizer.pkl', 'rb') as handle:\n",
        "        tokenizer = pickle.load(handle)\n",
        "    return tokenizer\n",
        "\n",
        "def load_image(img):\n",
        "    im = Image.open(img)\n",
        "    image = np.array(im)\n",
        "    return image\n",
        "\n",
        "  \n",
        "tokenizer = load_tokenizer()\n",
        "model = load_model(\"/content/gdrive/My Drive/DS440/Data/image/best_model.h5\")\n",
        "max_length = 35\n",
        "\n",
        "def main():\n",
        "    st.header(\"_ImageCaption_:blue[Generator]\")\n",
        "\n",
        "    st.write(\"\"\"### Please upload your image:\"\"\")\n",
        "\n",
        "\n",
        "    # construct text box\n",
        "    input_buffer = st.file_uploader(\"Upload an image\", type=(\"png\", \"jpg\", \"jpeg\"))\n",
        "    option = st.selectbox(\"language\", (\"en\", \"ja\", \"ko\", \"pt\", \"es\", \"zh\", \"zh-TW\"))\n",
        "    button = st.button(\"Generate\")\n",
        "\n",
        "    if button:\n",
        "      if input_buffer:\n",
        "        # extract features from image\n",
        "        features = {}\n",
        "        image_name = input_buffer\n",
        "        # Load vgg16 Model\n",
        "        model_vgg = VGG16()\n",
        "        # restructure model\n",
        "        model_vgg = Model(inputs = model_vgg.inputs , outputs = model_vgg.layers[-2].output)\n",
        "        # load the image from file\n",
        "        image = load_img(image_name, target_size=(224, 224))\n",
        "        # convert image pixels to numpy array\n",
        "        image = img_to_array(image)\n",
        "        # reshape data for model\n",
        "        image = image.reshape((1, image.shape[0], image.shape[1], image.shape[2]))\n",
        "        # preprocess image for vgg\n",
        "        image = preprocess_input(image)\n",
        "        # extract features\n",
        "        feature = model_vgg.predict(image, verbose=0)\n",
        "        # get image ID\n",
        "        image_id = \"1\"\n",
        "        # image_name.split('.')[0]\n",
        "        # store feature\n",
        "        features[image_id] = feature\n",
        "\n",
        "        y_pred = (predict_caption(model, features[image_id], tokenizer, max_length))[8:].strip(\"endseq\")\n",
        "        st.subheader(translate_text(y_pred, option))\n",
        "        uploaded_img = load_image(image_name)\n",
        "        st.image(uploaded_img)\n",
        "\n",
        "      \n",
        "\n",
        "\n",
        "if __name__ == '__main__':\n",
        "    main()"
      ]
    },
    {
      "cell_type": "code",
      "execution_count": null,
      "metadata": {
        "colab": {
          "base_uri": "https://localhost:8080/"
        },
        "id": "u0jAWghHC5EA",
        "outputId": "91f45ffa-3bb0-4283-dcd8-f95c7a578908"
      },
      "outputs": [
        {
          "output_type": "stream",
          "name": "stdout",
          "text": [
            "NAME:\n",
            "   ngrok - tunnel local ports to public URLs and inspect traffic\n",
            "\n",
            "DESCRIPTION:\n",
            "    ngrok exposes local networked services behinds NATs and firewalls to the\n",
            "    public internet over a secure tunnel. Share local websites, build/test\n",
            "    webhook consumers and self-host personal services.\n",
            "    Detailed help for each command is available with 'ngrok help <command>'.\n",
            "    Open http://localhost:4040 for ngrok's web interface to inspect traffic.\n",
            "\n",
            "EXAMPLES:\n",
            "    ngrok http 80                    # secure public URL for port 80 web server\n",
            "    ngrok http -subdomain=baz 8080   # port 8080 available at baz.ngrok.io\n",
            "    ngrok http foo.dev:80            # tunnel to host:port instead of localhost\n",
            "    ngrok http https://localhost     # expose a local https server\n",
            "    ngrok tcp 22                     # tunnel arbitrary TCP traffic to port 22\n",
            "    ngrok tls -hostname=foo.com 443  # TLS traffic for foo.com to port 443\n",
            "    ngrok start foo bar baz          # start tunnels from the configuration file\n",
            "\n",
            "VERSION:\n",
            "   2.3.41\n",
            "\n",
            "AUTHOR:\n",
            "  inconshreveable - <alan@ngrok.com>\n",
            "\n",
            "COMMANDS:\n",
            "   authtoken\tsave authtoken to configuration file\n",
            "   credits\tprints author and licensing information\n",
            "   http\t\tstart an HTTP tunnel\n",
            "   start\tstart tunnels by name from the configuration file\n",
            "   tcp\t\tstart a TCP tunnel\n",
            "   tls\t\tstart a TLS tunnel\n",
            "   update\tupdate ngrok to the latest version\n",
            "   version\tprint the version string\n",
            "   help\t\tShows a list of commands or help for one command\n",
            "\n",
            "PYNGROK VERSION:\n",
            "   4.1.1\n"
          ]
        }
      ],
      "source": [
        "!ngrok"
      ]
    },
    {
      "cell_type": "code",
      "execution_count": null,
      "metadata": {
        "colab": {
          "base_uri": "https://localhost:8080/"
        },
        "id": "wYSgW2ynDZz_",
        "outputId": "772d63a8-034b-4a8e-8900-4b7d3de84007"
      },
      "outputs": [
        {
          "output_type": "stream",
          "name": "stdout",
          "text": [
            "Authtoken saved to configuration file: /root/.ngrok2/ngrok.yml\n"
          ]
        }
      ],
      "source": [
        "!ngrok authtoken 2GE9pLnERwJ5wZ1vHuGitlRjoD5_327yPZExMjvGdWqRQhQyK"
      ]
    },
    {
      "cell_type": "code",
      "execution_count": null,
      "metadata": {
        "colab": {
          "base_uri": "https://localhost:8080/"
        },
        "id": "BIBFlLeQDgU6",
        "outputId": "308e5a5f-4968-450b-dc01-15b0442063f1"
      },
      "outputs": [
        {
          "output_type": "stream",
          "name": "stderr",
          "text": [
            "INFO:pyngrok.process:ngrok process starting: 883\n",
            "2023-04-17 22:09:04.037 INFO    pyngrok.process: ngrok process starting: 883\n",
            "INFO:pyngrok.process:t=2023-04-17T22:09:04+0000 lvl=info msg=\"no configuration paths supplied\"\n",
            "\n",
            "2023-04-17 22:09:04.056 INFO    pyngrok.process: t=2023-04-17T22:09:04+0000 lvl=info msg=\"no configuration paths supplied\"\n",
            "\n",
            "INFO:pyngrok.process:t=2023-04-17T22:09:04+0000 lvl=info msg=\"using configuration at default config path\" path=/root/.ngrok2/ngrok.yml\n",
            "\n",
            "2023-04-17 22:09:04.067 INFO    pyngrok.process: t=2023-04-17T22:09:04+0000 lvl=info msg=\"using configuration at default config path\" path=/root/.ngrok2/ngrok.yml\n",
            "\n",
            "INFO:pyngrok.process:t=2023-04-17T22:09:04+0000 lvl=info msg=\"open config file\" path=/root/.ngrok2/ngrok.yml err=nil\n",
            "\n",
            "2023-04-17 22:09:04.074 INFO    pyngrok.process: t=2023-04-17T22:09:04+0000 lvl=info msg=\"open config file\" path=/root/.ngrok2/ngrok.yml err=nil\n",
            "\n",
            "INFO:pyngrok.process:t=2023-04-17T22:09:04+0000 lvl=info msg=\"starting web service\" obj=web addr=127.0.0.1:4040\n",
            "\n",
            "2023-04-17 22:09:04.084 INFO    pyngrok.process: t=2023-04-17T22:09:04+0000 lvl=info msg=\"starting web service\" obj=web addr=127.0.0.1:4040\n",
            "\n",
            "INFO:pyngrok.process:t=2023-04-17T22:09:04+0000 lvl=info msg=\"tunnel session started\" obj=tunnels.session\n",
            "\n",
            "2023-04-17 22:09:04.202 INFO    pyngrok.process: t=2023-04-17T22:09:04+0000 lvl=info msg=\"tunnel session started\" obj=tunnels.session\n",
            "\n",
            "INFO:pyngrok.process:t=2023-04-17T22:09:04+0000 lvl=info msg=\"client session established\" obj=csess id=74ff9d83b6d5\n",
            "\n",
            "2023-04-17 22:09:04.206 INFO    pyngrok.process: t=2023-04-17T22:09:04+0000 lvl=info msg=\"client session established\" obj=csess id=74ff9d83b6d5\n",
            "\n",
            "INFO:pyngrok.process:ngrok process has started: http://127.0.0.1:4040\n",
            "2023-04-17 22:09:04.213 INFO    pyngrok.process: ngrok process has started: http://127.0.0.1:4040\n",
            "INFO:pyngrok.process:t=2023-04-17T22:09:04+0000 lvl=info msg=start pg=/api/tunnels id=6dc0761b8a3c88df\n",
            "\n",
            "2023-04-17 22:09:04.221 INFO    pyngrok.process: t=2023-04-17T22:09:04+0000 lvl=info msg=start pg=/api/tunnels id=6dc0761b8a3c88df\n",
            "\n",
            "INFO:pyngrok.process:t=2023-04-17T22:09:04+0000 lvl=info msg=end pg=/api/tunnels id=6dc0761b8a3c88df status=200 dur=369.429µs\n",
            "\n",
            "2023-04-17 22:09:04.227 INFO    pyngrok.process: t=2023-04-17T22:09:04+0000 lvl=info msg=end pg=/api/tunnels id=6dc0761b8a3c88df status=200 dur=369.429µs\n",
            "\n",
            "INFO:pyngrok.process:t=2023-04-17T22:09:04+0000 lvl=info msg=start pg=/api/tunnels id=a0e734a6f2924b79\n",
            "\n",
            "2023-04-17 22:09:04.230 INFO    pyngrok.process: t=2023-04-17T22:09:04+0000 lvl=info msg=start pg=/api/tunnels id=a0e734a6f2924b79\n",
            "\n",
            "INFO:pyngrok.process:t=2023-04-17T22:09:04+0000 lvl=info msg=end pg=/api/tunnels id=a0e734a6f2924b79 status=200 dur=119.239µs\n",
            "\n",
            "2023-04-17 22:09:04.232 INFO    pyngrok.process: t=2023-04-17T22:09:04+0000 lvl=info msg=end pg=/api/tunnels id=a0e734a6f2924b79 status=200 dur=119.239µs\n",
            "\n",
            "INFO:pyngrok.process:t=2023-04-17T22:09:04+0000 lvl=info msg=start pg=/api/tunnels id=8c83e0f71a57b3ea\n",
            "\n",
            "2023-04-17 22:09:04.235 INFO    pyngrok.process: t=2023-04-17T22:09:04+0000 lvl=info msg=start pg=/api/tunnels id=8c83e0f71a57b3ea\n",
            "\n",
            "INFO:pyngrok.process:t=2023-04-17T22:09:04+0000 lvl=info msg=\"started tunnel\" obj=tunnels name=\"http-8501-07f2960c-8e56-454e-90e7-17348d74575f (http)\" addr=http://localhost:8501 url=http://d96a-35-185-42-222.ngrok-free.app\n",
            "\n",
            "2023-04-17 22:09:04.315 INFO    pyngrok.process: t=2023-04-17T22:09:04+0000 lvl=info msg=\"started tunnel\" obj=tunnels name=\"http-8501-07f2960c-8e56-454e-90e7-17348d74575f (http)\" addr=http://localhost:8501 url=http://d96a-35-185-42-222.ngrok-free.app\n",
            "\n",
            "INFO:pyngrok.process:t=2023-04-17T22:09:04+0000 lvl=info msg=\"started tunnel\" obj=tunnels name=http-8501-07f2960c-8e56-454e-90e7-17348d74575f addr=http://localhost:8501 url=https://d96a-35-185-42-222.ngrok-free.app\n",
            "\n",
            "2023-04-17 22:09:04.319 INFO    pyngrok.process: t=2023-04-17T22:09:04+0000 lvl=info msg=\"started tunnel\" obj=tunnels name=http-8501-07f2960c-8e56-454e-90e7-17348d74575f addr=http://localhost:8501 url=https://d96a-35-185-42-222.ngrok-free.app\n",
            "\n",
            "INFO:pyngrok.process:t=2023-04-17T22:09:04+0000 lvl=info msg=end pg=/api/tunnels id=8c83e0f71a57b3ea status=201 dur=95.502166ms\n",
            "\n",
            "2023-04-17 22:09:04.323 INFO    pyngrok.process: t=2023-04-17T22:09:04+0000 lvl=info msg=end pg=/api/tunnels id=8c83e0f71a57b3ea status=201 dur=95.502166ms\n",
            "\n"
          ]
        }
      ],
      "source": [
        "from pyngrok import ngrok\n",
        "public_url = ngrok.connect(port='8501')"
      ]
    },
    {
      "cell_type": "code",
      "execution_count": null,
      "metadata": {
        "colab": {
          "base_uri": "https://localhost:8080/"
        },
        "id": "DHuCV0JTVCCe",
        "outputId": "cacf1113-8eb3-44ea-9b66-1c32a34546a2"
      },
      "outputs": [
        {
          "output_type": "stream",
          "name": "stdout",
          "text": [
            "[#.................] | fetchMetadata: sill resolveWithNewModule follow-redirect\u001b[0m\u001b[K\n",
            "Collecting usage statistics. To deactivate, set browser.gatherUsageStats to False.\n",
            "\u001b[0m\n",
            "\u001b[0m\n",
            "\u001b[34m\u001b[1m  You can now view your Streamlit app in your browser.\u001b[0m\n",
            "\u001b[0m\n",
            "\u001b[34m  Network URL: \u001b[0m\u001b[1mhttp://172.28.0.12:8501\u001b[0m\n",
            "\u001b[34m  External URL: \u001b[0m\u001b[1mhttp://35.185.42.222:8501\u001b[0m\n",
            "\u001b[0m\n",
            "\u001b[K\u001b[?25hnpx: installed 22 in 6.239s\n",
            "Usage: lt --port [num] <options>\n",
            "\n",
            "Options:\n",
            "  -p, --port                Internal HTTP server port                 [required]\n",
            "  -h, --host                Upstream server providing forwarding\n",
            "                                             [default: \"https://localtunnel.me\"]\n",
            "  -s, --subdomain           Request this subdomain\n",
            "  -l, --local-host          Tunnel traffic to this host instead of localhost,\n",
            "                            override Host header to this host\n",
            "      --local-https         Tunnel traffic to a local HTTPS server     [boolean]\n",
            "      --local-cert          Path to certificate PEM file for local HTTPS server\n",
            "      --local-key           Path to certificate key file for local HTTPS server\n",
            "      --local-ca            Path to certificate authority file for self-signed\n",
            "                            certificates\n",
            "      --allow-invalid-cert  Disable certificate checks for your local HTTPS\n",
            "                            server (ignore cert/key/ca options)        [boolean]\n",
            "  -o, --open                Opens the tunnel URL in your browser\n",
            "      --print-requests      Print basic request info                   [boolean]\n",
            "      --help                Show this help and exit                    [boolean]\n",
            "      --version             Show version number                        [boolean]\n",
            "\n",
            "Missing required argument: port\n"
          ]
        },
        {
          "output_type": "stream",
          "name": "stderr",
          "text": [
            "INFO:pyngrok.process:t=2023-04-17T22:09:34+0000 lvl=info msg=\"join connections\" obj=join id=b98e7471f9f1 l=127.0.0.1:8501 r=104.39.7.28:65465\n",
            "\n",
            "2023-04-17 22:09:34.785 INFO    pyngrok.process: t=2023-04-17T22:09:34+0000 lvl=info msg=\"join connections\" obj=join id=b98e7471f9f1 l=127.0.0.1:8501 r=104.39.7.28:65465\n",
            "\n",
            "INFO:pyngrok.process:t=2023-04-17T22:09:34+0000 lvl=info msg=\"join connections\" obj=join id=9829b7743250 l=127.0.0.1:8501 r=104.39.7.28:65465\n",
            "\n",
            "2023-04-17 22:09:34.874 INFO    pyngrok.process: t=2023-04-17T22:09:34+0000 lvl=info msg=\"join connections\" obj=join id=9829b7743250 l=127.0.0.1:8501 r=104.39.7.28:65465\n",
            "\n",
            "INFO:pyngrok.process:t=2023-04-17T22:09:34+0000 lvl=info msg=\"join connections\" obj=join id=9f51ce49fe35 l=127.0.0.1:8501 r=104.39.7.28:65465\n",
            "\n",
            "2023-04-17 22:09:34.889 INFO    pyngrok.process: t=2023-04-17T22:09:34+0000 lvl=info msg=\"join connections\" obj=join id=9f51ce49fe35 l=127.0.0.1:8501 r=104.39.7.28:65465\n",
            "\n",
            "INFO:pyngrok.process:t=2023-04-17T22:09:34+0000 lvl=info msg=\"join connections\" obj=join id=9240c1063020 l=127.0.0.1:8501 r=104.39.7.28:65465\n",
            "\n",
            "2023-04-17 22:09:34.906 INFO    pyngrok.process: t=2023-04-17T22:09:34+0000 lvl=info msg=\"join connections\" obj=join id=9240c1063020 l=127.0.0.1:8501 r=104.39.7.28:65465\n",
            "\n",
            "INFO:pyngrok.process:t=2023-04-17T22:09:34+0000 lvl=info msg=\"join connections\" obj=join id=3ca9e8fa2608 l=127.0.0.1:8501 r=104.39.7.28:65465\n",
            "\n",
            "2023-04-17 22:09:34.915 INFO    pyngrok.process: t=2023-04-17T22:09:34+0000 lvl=info msg=\"join connections\" obj=join id=3ca9e8fa2608 l=127.0.0.1:8501 r=104.39.7.28:65465\n",
            "\n",
            "INFO:pyngrok.process:t=2023-04-17T22:09:34+0000 lvl=info msg=\"join connections\" obj=join id=fdbaa4740264 l=127.0.0.1:8501 r=104.39.7.28:65465\n",
            "\n",
            "2023-04-17 22:09:34.930 INFO    pyngrok.process: t=2023-04-17T22:09:34+0000 lvl=info msg=\"join connections\" obj=join id=fdbaa4740264 l=127.0.0.1:8501 r=104.39.7.28:65465\n",
            "\n",
            "INFO:pyngrok.process:t=2023-04-17T22:09:34+0000 lvl=info msg=\"join connections\" obj=join id=a441c2b88c4e l=127.0.0.1:8501 r=104.39.7.28:65465\n",
            "\n",
            "2023-04-17 22:09:34.936 INFO    pyngrok.process: t=2023-04-17T22:09:34+0000 lvl=info msg=\"join connections\" obj=join id=a441c2b88c4e l=127.0.0.1:8501 r=104.39.7.28:65465\n",
            "\n",
            "INFO:pyngrok.process:t=2023-04-17T22:09:35+0000 lvl=info msg=\"join connections\" obj=join id=a540c267f144 l=127.0.0.1:8501 r=104.39.7.28:65465\n",
            "\n",
            "2023-04-17 22:09:35.815 INFO    pyngrok.process: t=2023-04-17T22:09:35+0000 lvl=info msg=\"join connections\" obj=join id=a540c267f144 l=127.0.0.1:8501 r=104.39.7.28:65465\n",
            "\n",
            "INFO:pyngrok.process:t=2023-04-17T22:09:35+0000 lvl=info msg=\"join connections\" obj=join id=3f2e23d6bfe5 l=127.0.0.1:8501 r=104.39.7.28:65477\n",
            "\n",
            "2023-04-17 22:09:35.916 INFO    pyngrok.process: t=2023-04-17T22:09:35+0000 lvl=info msg=\"join connections\" obj=join id=3f2e23d6bfe5 l=127.0.0.1:8501 r=104.39.7.28:65477\n",
            "\n"
          ]
        },
        {
          "output_type": "stream",
          "name": "stdout",
          "text": [
            "2023-04-17 22:09:36.644815: I tensorflow/core/platform/cpu_feature_guard.cc:182] This TensorFlow binary is optimized to use available CPU instructions in performance-critical operations.\n",
            "To enable the following instructions: AVX2 FMA, in other operations, rebuild TensorFlow with the appropriate compiler flags.\n",
            "2023-04-17 22:09:37.764647: W tensorflow/compiler/tf2tensorrt/utils/py_utils.cc:38] TF-TRT Warning: Could not find TensorRT\n"
          ]
        },
        {
          "output_type": "stream",
          "name": "stderr",
          "text": [
            "INFO:pyngrok.process:t=2023-04-17T22:09:44+0000 lvl=info msg=\"join connections\" obj=join id=1be2add12660 l=127.0.0.1:8501 r=104.39.7.28:65465\n",
            "\n",
            "2023-04-17 22:09:44.317 INFO    pyngrok.process: t=2023-04-17T22:09:44+0000 lvl=info msg=\"join connections\" obj=join id=1be2add12660 l=127.0.0.1:8501 r=104.39.7.28:65465\n",
            "\n",
            "INFO:pyngrok.process:t=2023-04-17T22:09:44+0000 lvl=info msg=\"join connections\" obj=join id=6cf0be6e16f7 l=127.0.0.1:8501 r=104.39.7.28:65465\n",
            "\n",
            "2023-04-17 22:09:44.326 INFO    pyngrok.process: t=2023-04-17T22:09:44+0000 lvl=info msg=\"join connections\" obj=join id=6cf0be6e16f7 l=127.0.0.1:8501 r=104.39.7.28:65465\n",
            "\n",
            "INFO:pyngrok.process:t=2023-04-17T22:09:44+0000 lvl=info msg=\"join connections\" obj=join id=4705afcbf2c6 l=127.0.0.1:8501 r=104.39.7.28:65465\n",
            "\n",
            "2023-04-17 22:09:44.371 INFO    pyngrok.process: t=2023-04-17T22:09:44+0000 lvl=info msg=\"join connections\" obj=join id=4705afcbf2c6 l=127.0.0.1:8501 r=104.39.7.28:65465\n",
            "\n",
            "INFO:pyngrok.process:t=2023-04-17T22:09:44+0000 lvl=info msg=\"join connections\" obj=join id=2f7f40b00802 l=127.0.0.1:8501 r=104.39.7.28:65465\n",
            "\n",
            "2023-04-17 22:09:44.375 INFO    pyngrok.process: t=2023-04-17T22:09:44+0000 lvl=info msg=\"join connections\" obj=join id=2f7f40b00802 l=127.0.0.1:8501 r=104.39.7.28:65465\n",
            "\n",
            "INFO:pyngrok.process:t=2023-04-17T22:11:03+0000 lvl=info msg=\"join connections\" obj=join id=e1121ee49f41 l=127.0.0.1:8501 r=104.39.213.33:55612\n",
            "\n",
            "2023-04-17 22:11:03.749 INFO    pyngrok.process: t=2023-04-17T22:11:03+0000 lvl=info msg=\"join connections\" obj=join id=e1121ee49f41 l=127.0.0.1:8501 r=104.39.213.33:55612\n",
            "\n",
            "INFO:pyngrok.process:t=2023-04-17T22:11:03+0000 lvl=info msg=\"join connections\" obj=join id=ab52fa33784a l=127.0.0.1:8501 r=104.39.213.33:55612\n",
            "\n",
            "2023-04-17 22:11:03.816 INFO    pyngrok.process: t=2023-04-17T22:11:03+0000 lvl=info msg=\"join connections\" obj=join id=ab52fa33784a l=127.0.0.1:8501 r=104.39.213.33:55612\n",
            "\n",
            "INFO:pyngrok.process:t=2023-04-17T22:11:03+0000 lvl=info msg=\"join connections\" obj=join id=013bbfce6052 l=127.0.0.1:8501 r=104.39.213.33:55612\n",
            "\n",
            "2023-04-17 22:11:03.819 INFO    pyngrok.process: t=2023-04-17T22:11:03+0000 lvl=info msg=\"join connections\" obj=join id=013bbfce6052 l=127.0.0.1:8501 r=104.39.213.33:55612\n",
            "\n",
            "INFO:pyngrok.process:t=2023-04-17T22:11:03+0000 lvl=info msg=\"join connections\" obj=join id=eb37ff5a18ea l=127.0.0.1:8501 r=104.39.213.33:55612\n",
            "\n",
            "2023-04-17 22:11:03.823 INFO    pyngrok.process: t=2023-04-17T22:11:03+0000 lvl=info msg=\"join connections\" obj=join id=eb37ff5a18ea l=127.0.0.1:8501 r=104.39.213.33:55612\n",
            "\n",
            "INFO:pyngrok.process:t=2023-04-17T22:11:03+0000 lvl=info msg=\"join connections\" obj=join id=4e63acf69ebc l=127.0.0.1:8501 r=104.39.213.33:55612\n",
            "\n",
            "2023-04-17 22:11:03.829 INFO    pyngrok.process: t=2023-04-17T22:11:03+0000 lvl=info msg=\"join connections\" obj=join id=4e63acf69ebc l=127.0.0.1:8501 r=104.39.213.33:55612\n",
            "\n",
            "INFO:pyngrok.process:t=2023-04-17T22:11:03+0000 lvl=info msg=\"join connections\" obj=join id=de198a57798d l=127.0.0.1:8501 r=104.39.213.33:55612\n",
            "\n",
            "2023-04-17 22:11:03.838 INFO    pyngrok.process: t=2023-04-17T22:11:03+0000 lvl=info msg=\"join connections\" obj=join id=de198a57798d l=127.0.0.1:8501 r=104.39.213.33:55612\n",
            "\n",
            "INFO:pyngrok.process:t=2023-04-17T22:11:03+0000 lvl=info msg=\"join connections\" obj=join id=071d8b554380 l=127.0.0.1:8501 r=104.39.213.33:55612\n",
            "\n",
            "2023-04-17 22:11:03.845 INFO    pyngrok.process: t=2023-04-17T22:11:03+0000 lvl=info msg=\"join connections\" obj=join id=071d8b554380 l=127.0.0.1:8501 r=104.39.213.33:55612\n",
            "\n",
            "INFO:pyngrok.process:t=2023-04-17T22:11:03+0000 lvl=info msg=\"join connections\" obj=join id=30e37341059a l=127.0.0.1:8501 r=104.39.213.33:55612\n",
            "\n",
            "2023-04-17 22:11:03.852 INFO    pyngrok.process: t=2023-04-17T22:11:03+0000 lvl=info msg=\"join connections\" obj=join id=30e37341059a l=127.0.0.1:8501 r=104.39.213.33:55612\n",
            "\n",
            "INFO:pyngrok.process:t=2023-04-17T22:11:05+0000 lvl=info msg=\"join connections\" obj=join id=2a5137bd339d l=127.0.0.1:8501 r=104.39.213.33:55612\n",
            "\n",
            "2023-04-17 22:11:05.009 INFO    pyngrok.process: t=2023-04-17T22:11:05+0000 lvl=info msg=\"join connections\" obj=join id=2a5137bd339d l=127.0.0.1:8501 r=104.39.213.33:55612\n",
            "\n",
            "INFO:pyngrok.process:t=2023-04-17T22:11:05+0000 lvl=info msg=\"join connections\" obj=join id=bdf4d516aa76 l=127.0.0.1:8501 r=104.39.213.33:55619\n",
            "\n",
            "2023-04-17 22:11:05.184 INFO    pyngrok.process: t=2023-04-17T22:11:05+0000 lvl=info msg=\"join connections\" obj=join id=bdf4d516aa76 l=127.0.0.1:8501 r=104.39.213.33:55619\n",
            "\n",
            "INFO:pyngrok.process:t=2023-04-17T22:11:07+0000 lvl=info msg=\"join connections\" obj=join id=79dfc04341ba l=127.0.0.1:8501 r=104.39.213.33:55612\n",
            "\n",
            "2023-04-17 22:11:07.346 INFO    pyngrok.process: t=2023-04-17T22:11:07+0000 lvl=info msg=\"join connections\" obj=join id=79dfc04341ba l=127.0.0.1:8501 r=104.39.213.33:55612\n",
            "\n",
            "INFO:pyngrok.process:t=2023-04-17T22:11:07+0000 lvl=info msg=\"join connections\" obj=join id=a9110de60684 l=127.0.0.1:8501 r=104.39.213.33:55612\n",
            "\n",
            "2023-04-17 22:11:07.350 INFO    pyngrok.process: t=2023-04-17T22:11:07+0000 lvl=info msg=\"join connections\" obj=join id=a9110de60684 l=127.0.0.1:8501 r=104.39.213.33:55612\n",
            "\n",
            "INFO:pyngrok.process:t=2023-04-17T22:11:07+0000 lvl=info msg=\"join connections\" obj=join id=da32063fc1d5 l=127.0.0.1:8501 r=104.39.213.33:55612\n",
            "\n",
            "2023-04-17 22:11:07.377 INFO    pyngrok.process: t=2023-04-17T22:11:07+0000 lvl=info msg=\"join connections\" obj=join id=da32063fc1d5 l=127.0.0.1:8501 r=104.39.213.33:55612\n",
            "\n",
            "INFO:pyngrok.process:t=2023-04-17T22:11:07+0000 lvl=info msg=\"join connections\" obj=join id=495ebcf7cfe5 l=127.0.0.1:8501 r=104.39.213.33:55612\n",
            "\n",
            "2023-04-17 22:11:07.408 INFO    pyngrok.process: t=2023-04-17T22:11:07+0000 lvl=info msg=\"join connections\" obj=join id=495ebcf7cfe5 l=127.0.0.1:8501 r=104.39.213.33:55612\n",
            "\n"
          ]
        },
        {
          "output_type": "stream",
          "name": "stdout",
          "text": [
            "Downloading data from https://storage.googleapis.com/tensorflow/keras-applications/vgg16/vgg16_weights_tf_dim_ordering_tf_kernels.h5\n",
            "553467096/553467096 [==============================] - 4s 0us/step\n"
          ]
        },
        {
          "output_type": "stream",
          "name": "stderr",
          "text": [
            "INFO:pyngrok.process:t=2023-04-17T22:12:51+0000 lvl=info msg=\"received stop request\" obj=app stopReq=\"{err:<nil> restart:false}\"\n",
            "\n",
            "2023-04-17 22:12:51.532 INFO    pyngrok.process: t=2023-04-17T22:12:51+0000 lvl=info msg=\"received stop request\" obj=app stopReq=\"{err:<nil> restart:false}\"\n",
            "\n",
            "INFO:pyngrok.process:t=2023-04-17T22:12:51+0000 lvl=info msg=\"session closing\" obj=tunnels.session err=nil\n",
            "\n",
            "2023-04-17 22:12:51.549 INFO    pyngrok.process: t=2023-04-17T22:12:51+0000 lvl=info msg=\"session closing\" obj=tunnels.session err=nil\n",
            "\n"
          ]
        },
        {
          "output_type": "stream",
          "name": "stdout",
          "text": [
            "\u001b[34m  Stopping...\u001b[0m\n"
          ]
        }
      ],
      "source": [
        "!streamlit run app.py & npx localtunnel — port 8501"
      ]
    },
    {
      "cell_type": "code",
      "execution_count": null,
      "metadata": {
        "colab": {
          "base_uri": "https://localhost:8080/",
          "height": 36
        },
        "id": "wWEfg2lhU7LB",
        "outputId": "f9f2d010-0ed0-4d0e-8a1c-0061ec33bdc2"
      },
      "outputs": [
        {
          "output_type": "execute_result",
          "data": {
            "text/plain": [
              "'http://d96a-35-185-42-222.ngrok-free.app'"
            ],
            "application/vnd.google.colaboratory.intrinsic+json": {
              "type": "string"
            }
          },
          "metadata": {},
          "execution_count": 13
        }
      ],
      "source": [
        "public_url"
      ]
    }
  ],
  "metadata": {
    "colab": {
      "provenance": []
    },
    "kernelspec": {
      "display_name": "Python 3",
      "name": "python3"
    },
    "language_info": {
      "name": "python"
    }
  },
  "nbformat": 4,
  "nbformat_minor": 0
}